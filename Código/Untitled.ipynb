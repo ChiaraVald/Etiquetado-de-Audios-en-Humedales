{
 "cells": [
  {
   "cell_type": "markdown",
   "id": "66239a77-2893-42a0-b5f1-46084685b8f7",
   "metadata": {},
   "source": [
    "# Etiquetado de Audios Grabados en Humedales \n"
   ]
  },
  {
   "cell_type": "markdown",
   "id": "4f0222ee-272d-4f7e-8fc3-9dca3029f436",
   "metadata": {},
   "source": [
    "## Introducción"
   ]
  },
  {
   "cell_type": "markdown",
   "id": "65682b0a-ebba-4841-a3a9-b0b0bfcb190f",
   "metadata": {},
   "source": [
    "## Objetivos\n",
    "\n",
    "### Objetivo General\n",
    "Analizar el paisaje sonoro de un humedal a través del etiquetado de audios.\n",
    "\n",
    "### Objetivos específicos\n",
    "* Identificar las fuentes sonoras del humedal a través de la grabación y análisis de audios.\n",
    "* Utilizar el etiquetado para clasificar los sonidos registrados, diferenciando entre fuentes biofónicas, geofónicas y antropogénicas.\n"
   ]
  },
  {
   "cell_type": "markdown",
   "id": "8e19080f-74d8-4041-94fe-488879270d31",
   "metadata": {},
   "source": [
    "## Humedales\n",
    "\n"
   ]
  },
  {
   "cell_type": "markdown",
   "id": "a7194bed-9c4f-436b-a7fc-c7c0fd9adce4",
   "metadata": {},
   "source": [
    "## Paisaje sonoro en Humedales"
   ]
  },
  {
   "cell_type": "markdown",
   "id": "5a8b9347-9c52-4859-a8a9-a0fcbb3e0b8c",
   "metadata": {},
   "source": [
    "## Instrumentación"
   ]
  },
  {
   "cell_type": "markdown",
   "id": "69011939-a285-40f0-afc1-708d9d98b410",
   "metadata": {},
   "source": [
    "## Mediciones"
   ]
  },
  {
   "cell_type": "markdown",
   "id": "93f164c4-70e5-4c23-8f34-b5fc48f0cc92",
   "metadata": {},
   "source": [
    "## Etiquetado"
   ]
  },
  {
   "cell_type": "markdown",
   "id": "0f45e301-e7c9-4b5d-b631-954e43798e5c",
   "metadata": {},
   "source": [
    "## Conclusiones"
   ]
  },
  {
   "cell_type": "markdown",
   "id": "073a7b05-6d41-4f22-8ae4-d0c8bc91f2f7",
   "metadata": {},
   "source": [
    "## Referencias \n",
    "* Ministerio del Medio Ambiente (MMA), & ONU Medio Ambiente. (2022). Guía de delimitación y caracterización de humedales urbanos de Chile. Elaborada mediante consultoría Proyecto GEF/SEC ID: 9766 “Conservación de humedales costeros de la zona centro-sur de Chile” por EDÁFICA Suelos y Medio Ambiente. Ministerio del Medio Ambiente, Santiago, Chile.\n",
    "\n",
    "* Secretaría de la Convención de Ramsar. (s.f.). ¿Qué son los humedales? Documento informativo Ramsar No. 1. https://www.ramsar.org"
   ]
  }
 ],
 "metadata": {
  "kernelspec": {
   "display_name": "ACUS340",
   "language": "python",
   "name": "acus340"
  },
  "language_info": {
   "codemirror_mode": {
    "name": "ipython",
    "version": 3
   },
   "file_extension": ".py",
   "mimetype": "text/x-python",
   "name": "python",
   "nbconvert_exporter": "python",
   "pygments_lexer": "ipython3",
   "version": "3.10.13"
  }
 },
 "nbformat": 4,
 "nbformat_minor": 5
}
