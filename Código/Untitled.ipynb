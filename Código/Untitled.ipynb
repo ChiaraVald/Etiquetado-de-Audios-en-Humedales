{
 "cells": [
  {
   "cell_type": "markdown",
   "id": "66239a77-2893-42a0-b5f1-46084685b8f7",
   "metadata": {},
   "source": [
    "# Etiquetado de Audios Grabados en Humedales \n"
   ]
  },
  {
   "cell_type": "markdown",
   "id": "4f0222ee-272d-4f7e-8fc3-9dca3029f436",
   "metadata": {},
   "source": [
    "## Introducción"
   ]
  },
  {
   "cell_type": "markdown",
   "id": "65682b0a-ebba-4841-a3a9-b0b0bfcb190f",
   "metadata": {},
   "source": [
    "## Objetivos\n",
    "\n",
    "### Objetivo General\n",
    "Analizar el paisaje sonoro de un humedal a través del etiquetado de audios.\n",
    "\n",
    "### Objetivos específicos\n",
    "* Identificar las fuentes sonoras del humedal a través de la grabación y análisis de audios.\n",
    "* Utilizar el etiquetado para clasificar los sonidos registrados, diferenciando entre fuentes biofónicas, geofónicas y antropogénicas.\n"
   ]
  },
  {
   "cell_type": "markdown",
   "id": "8e19080f-74d8-4041-94fe-488879270d31",
   "metadata": {},
   "source": [
    "## **Humedales**\n",
    "Los humedales son zonas donde el principal factor para la fauna y flora y medios son controlados por el agua (Secretaría de la Convención de Ramsar, s.f.). En la  Ley  N°21.202 de Chile los humedales son definidos como: “todas aquellas extensiones de marismas, pantanos y turberas, o superficies cubiertas de aguas, sean éstas derégimen natural o artificial, permanentes o temporales, estancadas o corrientes, dulces, salobres o saladas, incluidas las extensiones de agua marina, cuya profundidad en marea baja no exceda los seis metros y que se encuentren total o parcialmente dentro del límite urbano” (Ministerio del Medio Ambiente & ONU Medio Ambiente, 2022). El humedal al que se fueron a realizar las grabaciones es parte del Centro de Investigación del Humedal del Río Cruces la cual consta de tres cámaras: social, económica y científica. Su misión es ser una institución que contribuya a la restauración y conservación del Humedal del Río Cruces, a portando a su conocimiento y gestión (Sobre el Centro, 2017). Para delimitar un Humedal Urbano se deben usar los tres criterios presentados en el artículo 8° del Reglamento de la Ley de Humedales Urbanos (Decreto N° 15/2020): hidrología, vegetación y suelos (Ministerio del Medio Ambiente & ONU Medio Ambiente, 2022).\n",
    "\n",
    "De acuerdo a la hidrología se pueden definir los siguientes humedales:\n",
    "\n",
    "![Hidrologia](images/Hidrologia_humedales.png)\n",
    "\n",
    "\n",
    "También se pueden reconocer distintas zonas dentro de humedal. Las zonas de los humedales se pueden identificar de la siguiente manera:\n",
    "\n",
    "- Sona saturada: Es la zona más baja en un humedal y puede estar inundada estacional o intermintentemente.\n",
    "- Zona de transición: Esta es la zona límite del humedal o entre la zona saturada y la exterior. Hay evidencia de saturación \n",
    "- Zona  exterior: Esta zona no es parte del humedal, y no hay evidenci ade inundación y no hya evidencia de la presencia de vegetación hidrófita ni suelos hídricos. \n",
    "\n",
    "(IMAGEN)\n",
    "\n",
    "Los humedales sirven de hábitat de animales tanto acuáticos como terrestres y de variedad de aves (Ministerio del Medio Ambiente & ONU Medio Ambiente, 2022). Están entre los medios más productivos del mundo (Secretaría de la Convención de Ramsar, s.f.). Además regulan procesos ecológicos como los ciclos hidrológicos y de carbono (Ministerio del Medio Ambiente & ONU Medio Ambiente, 2022). Estos se encuentran entre los ecosistemas más amenazados debido a actividades antropogénicas, contaminación y sobreexplotación de sus recursos (Secretaría de la Convención de Ramsar, s.f.). Por este motivo existe una ley en Chile que los proteje: Ley de Protección de Humedales Urbanos (Ley N°21.202). \n",
    "\n"
   ]
  },
  {
   "cell_type": "markdown",
   "id": "a7194bed-9c4f-436b-a7fc-c7c0fd9adce4",
   "metadata": {},
   "source": [
    "## **Paisaje sonoro en Humedales**\n",
    "\n",
    "### **Paisaje sonoro**\n",
    "Un paisaje sonoro es el resultado de sonidos que son producidos por agentes bióticos y abióticos. Es la energía sónica producida por un paisaje y es el resultado de tres fuentes sonicas distintas: geofonias, biofonias y antropofonias.\n",
    "\n",
    "1. Geofonias: Se refiere a sonidos generados por elementos no biológicos del mundo natural. \n",
    "2. Biofonias: Son sonidos generados por organismos vivos.\n",
    "3. Antropofonias: Sonidos generados por actividades humanas o tecnología.\n",
    "El siguiente cuadro muestra la organización de las fuentes sonoras anteriormente mencionadas:\n",
    "\n",
    "| Fuentes sonoras      | Ejemplos |\n",
    "| ----------- | ----------- |\n",
    "| Geofonias   | Viento, agua, truenos|       \n",
    "| Biofonias   | Pájaros, grillos, anfibios        |\n",
    "| Antropofonias| Tráfico, construcción, música    |\n",
    "\n",
    "### **Relación con los humedales**\n",
    "\n",
    "Los paisajes sonoros pueden ser indicadorees de la salud de un ecosistema. Por ejemplo, la presencia de ciertos sonidos puede reflejar la biodiversidad y el estado de la conservación de un humedal.\n",
    "\n",
    "- Indicadores de Biodiversidad: Particularmente en los humedales que son sitios de suma importancia como habitan para numerosas especies, el hecho de capturar numerosas fuentes sonoras de origen animal, como lo es captar sonidos de aves u otros mamíferos. O hasta incluso sonidos propios del mismo ambiente que no estén relacionados con animales, como lo son el cause de un rio o una cascada. Estos sonidos resaltan que el ecosistema en cuestión, que en este caso son los humedales posee una rica biodiversidad.\n",
    "- Monitoreo de la salud del ecosistema: Los paisajes sonoros permiten a los científicos monitorear la salud de los humedales sin necesidad de métodos invasivos. Cambios en los patrones sonoros pueden indicar alteraciones en el ecosistema, como la presencia de especies invasoras o la disminución de especies nativas.\n",
    "- Detección de Contaminación acústica: La presencia de ruido antropofonico (como el trafico o la industria) en los paisajes sonoros puede afectar negativamente a la fauna local. Evaluar estos sonidos ayuda a identificar y mitigar fuentes de contaminación acústica, protegiendo así el hábitat natural que en este caso son los humedales.\n",
    "- Conservacion y valoración: La grabación y estudio de los paisajes sonoros de los humedales ayudan a aumentar la conciencia sobre la importancia de estos ecosistemas. Un ejemplo de esto es el proyecto de Felipe Otondo en Valdivia, que utiliza técnicas innovadoras como el time-lapse sonor para capturar y valorar el patrimonio sonore de los humedales urbanos.\n",
    "\n",
    "### **Impacto de la contaminación sonora**\n",
    "\n",
    "La actividad humana es una de las principales causas de el incremento de la contaminación sonora. Existe el ruido industrial, el ruido urbano, el ruido ambiente, el ruido de los aviones, etc. A menudo el ruido se considera al mismo nivel de importancia que las sustancias químicas como fuente de contaminación.\n",
    "En un mundo no-tecnologico, los sonidos son la manifestación de las dinámicas geofísicas y biofísicas. Truenos, viento y el agua corriendo son sonidos comunes en la naturaleza. En un mundo moderno dominado por la humanidad, la palabra sonido a menudo es confundida y sustituida por “ruido”, que es definido como cualquier proceso sonico que esta lejos de ser silencioso y puede ser dañino.\n",
    "\n",
    "- Patrones de ruido como fuente de contaminación ambiental: Con el término “contaminación por ruido” se busca agrupar toda consecuencia negativa producida por un ambiente ruidoso sobre los animales y la vida humana también.\n",
    "La humanidad ha cambiado drásticamente muchos ecosistemas alrededor del mundo, produciendo mayor cantidad de ruido como resultado del desarrollo económico. \n",
    "Entre los efectos que causa la contaminación por ruido, el ruido puede alterar las interacciones entre presa y depredador y puede facilitar la prevalencia de especies más tolerantes al ruido y por lo tanto reformando comunidades de animales y las relaciones entre especies.\n",
    "- Los efectos del ruido en la comunicación entre animales: El ruido natural es manejado por los organismos de forma que estos lo evitan o se adaptan a ellos, pero el ruido generado por los humanos afecta la fisiología y comportamiento animal de diferentes maneras, produciendo molestia, estrés crónico y pérdida de audición.\n",
    "Para reaccionar al ruido los animales consumen mas energía, reduciendo el tiempo para alimentarse o enmascarando comunicaciones vocales entre ellos, reduciendo las oportunidades de apareamiento. Efectos negativos también ocurren entre la relación depredador-presa, enmascarando la llegada de depredadores y alterando las señales necesarias que componen esta compleja relación.\n",
    "En animales sociales, el ruido antropogenico puede crear dificultades serias en mantener la segregación social o puede reducir el intercambio de información estrategia como la localización de áreas con abundante alimento.\n",
    "\n",
    "\n",
    "\n",
    "\n"
   ]
  },
  {
   "cell_type": "markdown",
   "id": "5a8b9347-9c52-4859-a8a9-a0fcbb3e0b8c",
   "metadata": {},
   "source": [
    "## Instrumentación"
   ]
  },
  {
   "cell_type": "markdown",
   "id": "69011939-a285-40f0-afc1-708d9d98b410",
   "metadata": {},
   "source": [
    "## Mediciones"
   ]
  },
  {
   "cell_type": "markdown",
   "id": "93f164c4-70e5-4c23-8f34-b5fc48f0cc92",
   "metadata": {},
   "source": [
    "## Proceso de Etiquetado\n",
    "### Preparación del audio:\n",
    "Una vez grabado el paisaje sonoro se procede a editar el audio para editar las partes del comienzo que la grabación que contiene información que no es necesaria para el paisaje sonoro, tales como pasos, el sonido del botón de la grabadora,etc., que suceden al comienzo y al final de la grabación. Así se ve el audio original:\n",
    "![Audio original sin edición](humedal1.png)\n",
    "De igual forma se procede a normalizar el audio, para ajustar los niveles de ganancia con los que se grabó. En este caso para tener un *headroom* se grabó con la ganancia de las Tascam entre 30 y 40. Los resultados fueron audios de nivel bajo, y luego la normalización sin usar ningún tipo de ecualizador ni compresor para no alterar el audio original. Se usó un fade in al comienzo y un fade out al final, muy minúsculos para evitar *pops* al comenzar o finalizar el audio. \n",
    "![Audio editado](humedal3.png)\n",
    "\n",
    "Finalmente exportado el audio podemos comenzar con el proceso de etiquetado.\n",
    "\n",
    "### Eiquetado:\n",
    "Se crea un ambiente en conda que será llamado ACUS302, el nombre de la materia de Instrumentación en Acústica. Luego se procede a instalar Label Studio desde un terminal (en este caso de Mac), se requiere phython 3.8 o superior para este programa. El código a ingresar en el terminal es el siguiente (pulsando Enter luego de cada interacción):\\\n",
    "pip install label-studio \\\n",
    "![Etiquetado](humedal6.png)\n",
    "label-studio \\\n",
    "Esto abre label studio en una pestaña del explorador web predeterminado, esta pestaña es local y no necesita internet para funcionar. \n",
    "En este caso python estaba corrupto en el ambiente creado previamente, por lo cual se desactivó y borro el ambiente ACUS302, se volvió a crear, a instalar python. Luego funcionó el label studio sin ningún problema.\n",
    "Se procede a configurar los ajustes para el etiquetado, en este caso se hicieron 5 categorías de etiquetas para el audio, luego de haber hecho una escucha activa. Por otra parte se carga el audio editado y normalizado. Hay opciones para hacer zoom en el eje horizontal del audio, para las personas que son un poco mas visuales y para poder ser más preciso al momento de etiquetar un evento sonoro del paisaje. Hay muchas opciones de bloqueo de región, mostrar o esconder regiones, que usan cuando los eventos sonoros se superponen, de esa manera uno puede hacer un mejor trabajo de etiquetado al paisaje sonoro. Label studio es único en el sentido que se pueden producir datasets que pueden ser introducidos en algoritmos de aprendizaje de máquina, dado que en label studio se pueden hacer etiquetados de documentos, imágenes etc. El resultado final: \n",
    "![Etiquetado](humedal5.png)\n",
    "El programa de etiquetado label studio puede ser un poco complicado de empezar a usar, pero una vez ubicado los botones principales se vuelve muy intuitivo y fácil para etiquetar. Este etiquetado podría ayudar mucho en otras cosas que no sean necesariamente paisajes sonoros, incluso podría ser para etiquetar los instrumentos que suenan en una canción, por ejemplo. \n",
    "Al finalizar el etiquetado podemos exportar el archivo json del etiquetado, y lo añadiremos al repositorio. Para exportar el achivo se selecciona la segunda opción:\n",
    "![Etiquetado](humedal7.png)\n",
    "Este archivo luego se puede abrir en Visual Code y se observa de esta manera: \n",
    "![Etiquetado](humedal8.png)\n",
    "\n"
   ]
  },
  {
   "cell_type": "markdown",
   "id": "0f45e301-e7c9-4b5d-b631-954e43798e5c",
   "metadata": {},
   "source": [
    "## Conclusiones"
   ]
  },
  {
   "cell_type": "markdown",
   "id": "073a7b05-6d41-4f22-8ae4-d0c8bc91f2f7",
   "metadata": {},
   "source": [
    "## Referencias \n",
    "* Ministerio del Medio Ambiente (MMA), & ONU Medio Ambiente. (2022). Guía de delimitación y caracterización de humedales urbanos de Chile. Elaborada mediante consultoría Proyecto GEF/SEC ID: 9766 “Conservación de humedales costeros de la zona centro-sur de Chile” por EDÁFICA Suelos y Medio Ambiente. Ministerio del Medio Ambiente, Santiago, Chile.\n",
    "\n",
    "* Secretaría de la Convención de Ramsar. (s.f.). ¿Qué son los humedales? Documento informativo Ramsar No. 1. https://www.ramsar.org\n",
    "* Sobre el Centro. (2017, agosto 26). CEHUM; Centro de Humedales Río Cruces. https://cehum.org/sobre-el-centro/\n",
    "* Farina, A. (2013). Soundscape ecology: principles, patterns, methods and applications. Springer Science & Business Media.\n",
    "* Pijanowski, B. C., Farina, A., Gage, S. H., Dumyahn, S. L., & Krause, B. L. (2011). What is soundscape ecology? An introduction and overview of an emerging new science. Landscape ecology, 26, 1213-1232.\n"
   ]
  },
  {
   "cell_type": "markdown",
   "id": "f1a8c2c5",
   "metadata": {},
   "source": []
  }
 ],
 "metadata": {
  "kernelspec": {
   "display_name": "ACUS340",
   "language": "python",
   "name": "acus340"
  },
  "language_info": {
   "codemirror_mode": {
    "name": "ipython",
    "version": 3
   },
   "file_extension": ".py",
   "mimetype": "text/x-python",
   "name": "python",
   "nbconvert_exporter": "python",
   "pygments_lexer": "ipython3",
   "version": "3.10.13"
  }
 },
 "nbformat": 4,
 "nbformat_minor": 5
}
