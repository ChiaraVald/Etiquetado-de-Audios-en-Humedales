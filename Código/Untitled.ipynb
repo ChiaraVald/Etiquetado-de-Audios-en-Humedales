{
 "cells": [
  {
   "cell_type": "markdown",
   "id": "66239a77-2893-42a0-b5f1-46084685b8f7",
   "metadata": {},
   "source": [
    "# Etiquetado de Audios Grabados en Humedales \n"
   ]
  },
  {
   "cell_type": "markdown",
   "id": "4f0222ee-272d-4f7e-8fc3-9dca3029f436",
   "metadata": {},
   "source": [
    "## **Introducción**\n",
    "El paisaje sonoro es una herramienta fundamental para comprender la interacción entre los elementos naturales y humanos en un entorno determinado. En este trabajo, se explora el paisaje sonoro del humedal urbano Río Cruces, un ecosistema clave en la ciudad de Valdivia. El estudio se centra en tres categorías acústicas principales: biofonía, que incluye los sonidos producidos por organismos vivos como aves y anfibios; antropofonía, que abarca los sonidos generados por actividades humanas, como el tráfico o la maquinaria; y geofonía, que corresponde a los sonidos originados por elementos no biológicos como el viento, el agua y la lluvia. Para captar estos elementos sonoros, se sigue una metodología de grabación en campo, seleccionando cuidadosamente los puntos de muestreo dentro del humedal, asegurando la representatividad de cada uno de los tipos de fuentes acústicas. Posteriormente, se procesarán y etiquetarán los sonidos recolectados con el fin de crear un mapa sonoro. Este análisis permitirá describir las características acústicas del humedal y también identificar patrones sonoros dentro del mismo."
   ]
  },
  {
   "cell_type": "markdown",
   "id": "65682b0a-ebba-4841-a3a9-b0b0bfcb190f",
   "metadata": {},
   "source": [
    "## Objetivos\n",
    "\n",
    "### Objetivo General\n",
    "Analizar el paisaje sonoro de un humedal a través del etiquetado de audios.\n",
    "\n",
    "### Objetivos específicos\n",
    "* Identificar las fuentes sonoras del humedal a través de la grabación y análisis de audios.\n",
    "* Utilizar el etiquetado para clasificar los sonidos registrados, diferenciando entre fuentes biofónicas, geofónicas y antropogénicas.\n"
   ]
  },
  {
   "cell_type": "markdown",
   "id": "8e19080f-74d8-4041-94fe-488879270d31",
   "metadata": {},
   "source": [
    "## **Humedales**\n",
    "Los humedales son zonas donde el principal factor para la fauna y flora y medios son controlados por el agua (Secretaría de la Convención de Ramsar, s.f.). En la  Ley  N°21.202 de Chile los humedales son definidos como: “todas aquellas extensiones de marismas, pantanos y turberas, o superficies cubiertas de aguas, sean éstas derégimen natural o artificial, permanentes o temporales, estancadas o corrientes, dulces, salobres o saladas, incluidas las extensiones de agua marina, cuya profundidad en marea baja no exceda los seis metros y que se encuentren total o parcialmente dentro del límite urbano” (Ministerio del Medio Ambiente & ONU Medio Ambiente, 2022). El humedal al que se fueron a realizar las grabaciones es parte del Centro de Investigación del Humedal del Río Cruces la cual consta de tres cámaras: social, económica y científica. Su misión es ser una institución que contribuya a la restauración y conservación del Humedal del Río Cruces, a portando a su conocimiento y gestión (Sobre el Centro, 2017). Para delimitar un Humedal Urbano se deben usar los tres criterios presentados en el artículo 8° del Reglamento de la Ley de Humedales Urbanos (Decreto N° 15/2020): hidrología, vegetación y suelos (Ministerio del Medio Ambiente & ONU Medio Ambiente, 2022).\n",
    "\n",
    "De acuerdo a la hidrología se pueden definir los siguientes humedales:\n",
    "\n",
    "![Hidrologia](https://github.com/ChiaraVald/Etiquetado-de-Audios-en-Humedales/blob/main/images/Hidrologia_humedales.png?raw=true)\n",
    "\n",
    "\n",
    "También se pueden reconocer distintas zonas dentro de humedal. Las zonas de los humedales se pueden identificar de la siguiente manera:\n",
    "\n",
    "- Sona saturada: Es la zona más baja en un humedal y puede estar inundada estacional o intermintentemente.\n",
    "- Zona de transición: Esta es la zona límite del humedal o entre la zona saturada y la exterior. Hay evidencia de saturación \n",
    "- Zona  exterior: Esta zona no es parte del humedal, y no hay evidenci ade inundación y no hya evidencia de la presencia de vegetación hidrófita ni suelos hídricos. \n",
    "\n",
    "![Hidrologia](https://github.com/ChiaraVald/Etiquetado-de-Audios-en-Humedales/blob/main/images/Zonas_humedal.png?raw=true)\n",
    "\n",
    "Los humedales sirven de hábitat de animales tanto acuáticos como terrestres y de variedad de aves (Ministerio del Medio Ambiente & ONU Medio Ambiente, 2022). Están entre los medios más productivos del mundo (Secretaría de la Convención de Ramsar, s.f.). Además regulan procesos ecológicos como los ciclos hidrológicos y de carbono (Ministerio del Medio Ambiente & ONU Medio Ambiente, 2022). Estos se encuentran entre los ecosistemas más amenazados debido a actividades antropogénicas, contaminación y sobreexplotación de sus recursos (Secretaría de la Convención de Ramsar, s.f.). Por este motivo existe una ley en Chile que los proteje: Ley de Protección de Humedales Urbanos (Ley N°21.202). \n",
    "\n"
   ]
  },
  {
   "cell_type": "markdown",
   "id": "a7194bed-9c4f-436b-a7fc-c7c0fd9adce4",
   "metadata": {},
   "source": [
    "## **Paisaje sonoro en Humedales**\n",
    "\n",
    "### **Paisaje sonoro**\n",
    "Un paisaje sonoro es el resultado de sonidos que son producidos por agentes bióticos y abióticos. Es la energía sónica producida por un paisaje y es el resultado de tres fuentes sonicas distintas: geofonias, biofonias y antropofonias. (Pijanowski, Farina, Gage, & Krause, 2011)\n",
    "\n",
    "1. Geofonias: Se refiere a sonidos generados por elementos no biológicos del mundo natural. \n",
    "2. Biofonias: Son sonidos generados por organismos vivos.\n",
    "3. Antropofonias: Sonidos generados por actividades humanas o tecnología.\n",
    "El siguiente cuadro muestra la organización de las fuentes sonoras anteriormente mencionadas:\n",
    "\n",
    "| Fuentes sonoras      | Ejemplos |\n",
    "| ----------- | ----------- |\n",
    "| Geofonias   | Viento, agua, truenos|       \n",
    "| Biofonias   | Pájaros, grillos, anfibios        |\n",
    "| Antropofonias| Tráfico, construcción, música    |\n",
    "\n",
    "\n",
    "### **Relación con los humedales**\n",
    "\n",
    "Los paisajes sonoros pueden ser indicadorees de la salud de un ecosistema. Por ejemplo, la presencia de ciertos sonidos puede reflejar la biodiversidad y el estado de la conservación de un humedal. De acuerdo con Farina A. (2013), los humedales y los paisajes sonoros se relacionan bajo los siguientes puntos:\n",
    "\n",
    "- Indicadores de Biodiversidad: Particularmente en los humedales que son sitios de suma importancia como habitan para numerosas especies, el hecho de capturar numerosas fuentes sonoras de origen animal, como lo es captar sonidos de aves u otros mamíferos. O hasta incluso sonidos propios del mismo ambiente que no estén relacionados con animales, como lo son el cause de un rio o una cascada. Estos sonidos resaltan que el ecosistema en cuestión, que en este caso son los humedales posee una rica biodiversidad.\n",
    "- Monitoreo de la salud del ecosistema: Los paisajes sonoros permiten a los científicos monitorear la salud de los humedales sin necesidad de métodos invasivos. Cambios en los patrones sonoros pueden indicar alteraciones en el ecosistema, como la presencia de especies invasoras o la disminución de especies nativas.\n",
    "- Detección de Contaminación acústica: La presencia de ruido antropofonico (como el trafico o la industria) en los paisajes sonoros puede afectar negativamente a la fauna local. Evaluar estos sonidos ayuda a identificar y mitigar fuentes de contaminación acústica, protegiendo así el hábitat natural que en este caso son los humedales.\n",
    "- Conservacion y valoración: La grabación y estudio de los paisajes sonoros de los humedales ayudan a aumentar la conciencia sobre la importancia de estos ecosistemas. Un ejemplo de esto es el proyecto de Felipe Otondo en Valdivia, que utiliza técnicas innovadoras como el time-lapse sonor para capturar y valorar el patrimonio sonore de los humedales urbanos.\n",
    "\n",
    "### **Impacto de la contaminación sonora**\n",
    "\n",
    "La actividad humana es una de las principales causas de el incremento de la contaminación sonora. Existe el ruido industrial, el ruido urbano, el ruido ambiente, el ruido de los aviones, etc. A menudo el ruido se considera al mismo nivel de importancia que las sustancias químicas como fuente de contaminación.\n",
    "En un mundo no-tecnologico, los sonidos son la manifestación de las dinámicas geofísicas y biofísicas. Truenos, viento y el agua corriendo son sonidos comunes en la naturaleza. En un mundo moderno dominado por la humanidad, la palabra sonido a menudo es confundida y sustituida por “ruido”, que es definido como cualquier proceso sonico que esta lejos de ser silencioso y puede ser dañino. Segun menciona Farina A. (2013), la contaminacion sonora tiene los siguientes efectos en la biodiversidad en los humedales:\n",
    "\n",
    "- Patrones de ruido como fuente de contaminación ambiental: Con el término “contaminación por ruido” se busca agrupar toda consecuencia negativa producida por un ambiente ruidoso sobre los animales y la vida humana también.\n",
    "La humanidad ha cambiado drásticamente muchos ecosistemas alrededor del mundo, produciendo mayor cantidad de ruido como resultado del desarrollo económico. \n",
    "Entre los efectos que causa la contaminación por ruido, el ruido puede alterar las interacciones entre presa y depredador y puede facilitar la prevalencia de especies más tolerantes al ruido y por lo tanto reformando comunidades de animales y las relaciones entre especies. (Farina, 2013)\n",
    "- Los efectos del ruido en la comunicación entre animales: El ruido natural es manejado por los organismos de forma que estos lo evitan o se adaptan a ellos, pero el ruido generado por los humanos afecta la fisiología y comportamiento animal de diferentes maneras, produciendo molestia, estrés crónico y pérdida de audición.\n",
    "Para reaccionar al ruido los animales consumen mas energía, reduciendo el tiempo para alimentarse o enmascarando comunicaciones vocales entre ellos, reduciendo las oportunidades de apareamiento. Efectos negativos también ocurren entre la relación depredador-presa, enmascarando la llegada de depredadores y alterando las señales necesarias que componen esta compleja relación.\n",
    "En animales sociales, el ruido antropogenico puede crear dificultades serias en mantener la segregación social o puede reducir el intercambio de información estrategia como la localización de áreas con abundante alimento.\n",
    "\n",
    "\n",
    "\n",
    "\n"
   ]
  },
  {
   "cell_type": "markdown",
   "id": "5a8b9347-9c52-4859-a8a9-a0fcbb3e0b8c",
   "metadata": {},
   "source": [
    "## Mediciones"
   ]
  },
  {
   "cell_type": "markdown",
   "id": "69011939-a285-40f0-afc1-708d9d98b410",
   "metadata": {},
   "source": [
    "### Equipo\n",
    "\n",
    "El equipo que se utilizó para realizar las grabaciones en el Centro de Humedales \"Río Cruces\" fueron las grabadoras Tascam DR07 y Tascam DR40. Se utilizó la normativa ISO 12913-2 como referencia para las configuraciones de las grabadoras. Los requisitos que solicitaba la normativa era que la frecuencia de sampleo debería tener 44,1 kHz como mínimo y la resolución debe ser mínimo 16 bits. La configuración con la que trabajaron las grabadoras fue 44,1 kHz de sample rate y 24, bit de resolución. \n",
    "\n",
    "### Metodología\n",
    "\n",
    "La metodología que se utilizó para realizar las grabaciones en el Centro de Humedales \"Río Cruces\" fue la técnica para las mediciones binaurales. En la normativa ISO 12913-2 Anexo D, se especifica que la posición del micrófono debe representar el rango de la altura típica de una persona adulta. Esto usualmente es 1,6 m a la altura del suelo. Mientras que, durante las grabaciones, la altura de los micrófonos de cada participante fueron de 1,5 m. La dirección en la que fueron colocados los micrófonos, dependiendo del objeto que se queria enforcar en la grabación.\n",
    "\n",
    "### Equipo\n",
    "\n",
    "El equipo que se utilizó para realizar las grabaciones en el Centro de Humedales \"Río Cruces\" fueron las grabadoras Tascam DR07 y Tascam DR40. Se utilizó la normativa ISO 12913-2 como referencia para las configuraciones de las grabadoras. Los requisitos que solicitaba la normativa era que la frecuencia de sampleo debería tener 44,1 kHz como mínimo y la resolución debe ser mínimo 16 bits. La configuración con la que trabajaron las grabadoras fue 44,1 kHz de sample rate y 24, bit de resolución. el criterio de cada persona, significa que, dependía de lo que quería grabar cada persona.\n",
    "\n",
    "Según el anexo D, un requisito mínimo es que el tiempo de la grabación no debe ser menos de 3 minutos. También cabe recalcar, si ambiente en donde se está grabando presenta una periodicidad limpia, que ciertos sonidos son periódicos y regulares, entonces el tiempo de grabación debería cubrir solo un periodo de tiempo y no es necesario grabar por un gran periodo de tiempo. Teniendo en cuenta esto, la duración de cada grabación fue de máximo 5 minutos, en los cuales fueron suficientes para saber el paisaje sonoro de cada locación en las que se grabó.\n",
    "\n",
    "### Procedimiento\n",
    "\n",
    "El procedimiento que se siguió fue realizar un reconocimiento de los lugares donde se podrían realizar las grabaciones. Después de haber recorrido las instalaciones, cada integrante se dirigió a diferentes puntos del humedal para realizar las grabaciones. En la siguiente imagen, se puede observar las ubicaciones de cada integrante.\n",
    "\n",
    "![Ubicación de los participantes](https://github.com/ChiaraVald/Etiquetado-de-Audios-en-Humedales/blob/main/images/ubicacion_grabaciones_vista_aerea)\n",
    "\n",
    "Ya teniendo los lugares respectivos para cada estudiante, se tomaron notas de lo que ocurria durante las grabaciones para tener conciencia del ambiente en el que estaba cada uno. A continuacion se detallaran las carateristicas de los ambientes en las que grabaron cada participante.\n",
    "\n",
    "1. Descripción de Ambiente: Milagros\\\n",
    "El lugar donde se realizó la grabación del paisaje sonoro fue cerca de las plantaciones de totoras. En esta ubicación, se pudo escuchar bandadas de pájaros más no se podían ver, aunque había pocas aves que cantaban y se podían ver. Aunque se veían pocas aves, algunas no emitían ningún sonido al momento de la grabación. Las condiciones meteorológicas para ese día fueron presencia de viento, nublado y con lluvia, y hubo mucho viento en ciertos momentos de las grabaciones. \n",
    "Adicionalmente, desde esta posición, se podía escuchar: los autos que llegaban al centro del humedal, las puertas de los carros, los camiones en la carretera que colinda con el humedal y también las alarmas de reversa de los carros.\n",
    "La altura del micrófono era 1,5 m aproximadamente. Y el micrófono estaba en dirección a las totoras.\n",
    "\n",
    "2. Descripción de Ambiente: Chiara\\\n",
    "La grabación fue realizada en un espacio del humedal protegido para realizar monitoreo, este se encuentra en una zona saturada de agua y rodeada de totora. Para acceder al lugar hay que caminar por una estructura de madera que va por encima del nivel del agua. Debido a su localización geográfica se pueden escuchar sonidos del agua generados por los peces que nadan alrededor. También se pueden escuchar sonidos de la fauna que rodea el humedal. Entre estos se  escuchan diversos tipos de aves (incluyendo sus cantos y aleteos), ladridos de perros y caballos. Otro sonido geofónico que se puede apreciar pesar del agua es el viento. \n",
    "En cuanto a los ruidos antropológicos, se pueden oír los vehículos que transitan por la calle que pasa frente al humedal y las alarmas que emiten los mismos. Además, se pueden escuchar voces y aplausos de personas que caminan por el humedal.\n",
    "\n",
    "3. Descripción de Ambiente: Esteban\\\n",
    "    a) Tipo de acustica ambiental: real\\\n",
    "    b) La fuente de sonido y sus componentes de la acutica ambiental: la principal fuente de sonido eran aves y viento, desde una pérgola que apuntaba a un sitio inaccesible del humedal\\\n",
    "    c) Condiciones de clima y viento: el clima estaba nublado, con viento y frío\\\n",
    "    d) Los puntos de medicion (altura y orientacion del sistema de grabacion): la altura de mi equipo binaural era 1.20m más o menos. El equipo estaba dirigido al cuerpo de agua del humedal.\n",
    "\n",
    "\n",
    "4. Descripción de Ambiente: Rodrigo\\\n",
    "Esta grabación se realizó en la zona que colinda con el espacio protegido para realizar monitoreo, por lo que es una zona con vegetación y árboles particulares del área. Se alcanzaba a escuchar el sonido tanto de aves solitarias como de bandadas de aves. También por las condiciones climáticas de ese día, era posible captar la intensidad del viento y como este tenía efecto sobre las ramas de los árboles y la vegetación presente en la zona. Asimismo, en cierto punto fue posible escuchar el sonido de las gotas de lluvia sobre el micrófono, ya que empezó a caer una ligera lluvia."
   ]
  },
  {
   "cell_type": "markdown",
   "id": "93f164c4-70e5-4c23-8f34-b5fc48f0cc92",
   "metadata": {},
   "source": [
    "## **Proceso de Etiquetado**\n",
    "\n",
    "### Preparación del audio:\n",
    "Una vez grabado el paisaje sonoro se procede a editar el audio para editar las partes del comienzo que la grabación que contiene información que no es necesaria para el paisaje sonoro, tales como pasos, el sonido del botón de la grabadora,etc., que suceden al comienzo y al final de la grabación. Así se ve el audio original:\n",
    "![Audio original sin edición](https://github.com/ChiaraVald/Etiquetado-de-Audios-en-Humedales/blob/main/images/humedal1.png?raw=true)\n",
    "De igual forma se procede a normalizar el audio, para ajustar los niveles de ganancia con los que se grabó. En este caso para tener un *headroom* se grabó con la ganancia de las Tascam entre 30 y 40. Los resultados fueron audios de nivel bajo, y luego la normalización sin usar ningún tipo de ecualizador ni compresor para no alterar el audio original. Se usó un fade in al comienzo y un fade out al final, muy minúsculos para evitar *pops* al comenzar o finalizar el audio. \n",
    "![Audio editado](https://github.com/ChiaraVald/Etiquetado-de-Audios-en-Humedales/blob/main/images/humedal3.png?raw=true)\n",
    "\n",
    "Finalmente exportado el audio podemos comenzar con el proceso de etiquetado.\n",
    "\n",
    "### Etiquetado:\n",
    "Se crea un ambiente en conda que será llamado ACUS302, el nombre de la materia de Instrumentación en Acústica. Luego se procede a instalar Label Studio desde un terminal (en este caso de Mac), se requiere phython 3.8 o superior para este programa. El código a ingresar en el terminal es el siguiente (pulsando Enter luego de cada interacción):\\\n",
    "pip install label-studio \\\n",
    "![Comando en terminal](https://github.com/ChiaraVald/Etiquetado-de-Audios-en-Humedales/blob/main/images/humedal6.png?raw=true)\n",
    "\n",
    "label-studio \\\n",
    "Esto abre label studio en una pestaña del explorador web predeterminado, esta pestaña es local y no necesita internet para funcionar. \n",
    "En este caso python estaba corrupto en el ambiente creado previamente, por lo cual se desactivó y borro el ambiente ACUS302, se volvió a crear, a instalar python. Luego funcionó el label studio sin ningún problema.\n",
    "Se procede a configurar los ajustes para el etiquetado, en este caso se hicieron 5 categorías de etiquetas para el audio, luego de haber hecho una escucha activa. Por otra parte se carga el audio editado y normalizado. Hay opciones para hacer zoom en el eje horizontal del audio, para las personas que son un poco mas visuales y para poder ser más preciso al momento de etiquetar un evento sonoro del paisaje. Hay muchas opciones de bloqueo de región, mostrar o esconder regiones, que usan cuando los eventos sonoros se superponen, de esa manera uno puede hacer un mejor trabajo de etiquetado al paisaje sonoro. Label studio es único en el sentido que se pueden producir datasets que pueden ser introducidos en algoritmos de aprendizaje de máquina, dado que en label studio se pueden hacer etiquetados de documentos, imágenes etc. El resultado final: \n",
    "![Etiquetado](https://github.com/ChiaraVald/Etiquetado-de-Audios-en-Humedales/blob/main/images/humedal5.png?raw=true)\n",
    "El programa de etiquetado label studio puede ser un poco complicado de empezar a usar, pero una vez ubicado los botones principales se vuelve muy intuitivo y fácil para etiquetar. Este etiquetado podría ayudar mucho en otras cosas que no sean necesariamente paisajes sonoros, incluso podría ser para etiquetar los instrumentos que suenan en una canción, por ejemplo. \n",
    "Al finalizar el etiquetado podemos exportar el archivo json del etiquetado, y lo añadiremos al repositorio. Para exportar el achivo se selecciona la segunda opción:\n",
    "![Exportar el archivo json](https://github.com/ChiaraVald/Etiquetado-de-Audios-en-Humedales/blob/main/images/humedal7.png?raw=true)\n",
    "Este archivo luego se puede abrir en Visual Code y se observa de esta manera: \n",
    "![Archivo json visto en Visual Code](https://github.com/ChiaraVald/Etiquetado-de-Audios-en-Humedales/blob/main/images/humedal8.png?raw=true)\n",
    "A continuación los resultados de todos los integrantes del grupo:\n",
    "![Resultado final etiquetado](https://github.com/ChiaraVald/Etiquetado-de-Audios-en-Humedales/blob/main/images/humedal10.jpeg?raw=true)\n",
    "![Resultado final etiquetado](https://github.com/ChiaraVald/Etiquetado-de-Audios-en-Humedales/blob/main/images/humedal11.jpeg?raw=true)\n",
    "![Resultado final etiquetado](https://github.com/ChiaraVald/Etiquetado-de-Audios-en-Humedales/blob/main/images/humedal12.jpeg?raw=true)\n",
    "![Resultado final etiquetado](https://github.com/ChiaraVald/Etiquetado-de-Audios-en-Humedales/blob/main/images/humedal13.jpeg?raw=true)\n",
    "![Resultado final etiquetado](https://github.com/ChiaraVald/Etiquetado-de-Audios-en-Humedales/blob/main/images/humedal14.jpeg?raw=true)\n",
    "![Resultado final etiquetado](https://github.com/ChiaraVald/Etiquetado-de-Audios-en-Humedales/blob/main/images/humedal15.jpeg?raw=true)\n",
    "![Resultado final etiquetado](https://github.com/ChiaraVald/Etiquetado-de-Audios-en-Humedales/blob/main/images/humedal16.jpeg?raw=true)\n",
    "]\n"
   ]
  },
  {
   "cell_type": "markdown",
   "id": "0f45e301-e7c9-4b5d-b631-954e43798e5c",
   "metadata": {},
   "source": [
    "## **Análisis de audios**\n",
    "\n",
    "| Fuentes sonoras      | Ejemplos en los audios |\n",
    "| ----------- | ----------- |\n",
    "| Geofonías   | Viento, agua|       \n",
    "| Biofonías   | Pájaros, perros, caballos          |\n",
    "| Antropofonías| Vehículos, alarmas, voces, aplausos, pasos, golpes, puertas de vehículos, risas humanas   |\n",
    "\n",
    "Existe un debate sobre los animales introducidos por humanos como los perros y caballos, pero al considerar que es un humedal urbano estos fueron conciderados como biofónicos.\n",
    "\n",
    "Se puede notar que todos los audios tienen presencia de pájaros. En algunos audios la presencia de ruido antropófonos es inversamente proporcional a la de las aves. Esto puede ser una evidencia a cómo las actividades humanas afectan directamente a la fauna del humedal.\n",
    "Existe un contraste entre las zonas ya que unas presentaban altos niveles de vientos y en otras este no es tan presente. Sin embargo se puede notar que a pesar de ser un humedal urbano las fuentes silvestres están muy presentes.\n",
    "\n",
    "\n",
    "\n",
    "\n",
    "## Conclusiones\n",
    "\n",
    "Se realizó un análisis del paisaje sonoro del humedal Rio Cruces en el Centro de Humedales de Valdivia a partir de la grabación y del etiquetados de audios capturados en el lugar.\n",
    "A partir del etiquetado se identificaron fuentes geofónicas como viento y agua; biofónicas como pájaros, perros y caballos y antropofónicas como vehículos, alarmas y personas realizando distintas actividades. Se puede notar que las distintas zonas del humedal presentan fuentes parecidas pero presentes en distintas cantidades. Algunas tienen mayor presencia geofónica que otros y algunos no captaron alunas especies de fauna que otros si. En terminos generlaes hay una gran diversiada de fauna silvestre, especialmente de aves.\n",
    "Los sonidos antropófonos coincide con menor actividad de aves lo cual demuestra como la actividad humana puede afectar la vida silvestre en los humedales."
   ]
  },
  {
   "cell_type": "markdown",
   "id": "073a7b05-6d41-4f22-8ae4-d0c8bc91f2f7",
   "metadata": {},
   "source": [
    "## Referencias \n",
    "* Ministerio del Medio Ambiente (MMA), & ONU Medio Ambiente. (2022). Guía de delimitación y caracterización de humedales urbanos de Chile. Elaborada mediante consultoría Proyecto GEF/SEC ID: 9766 “Conservación de humedales costeros de la zona centro-sur de Chile” por EDÁFICA Suelos y Medio Ambiente. Ministerio del Medio Ambiente, Santiago, Chile.\n",
    "\n",
    "* Secretaría de la Convención de Ramsar. (s.f.). ¿Qué son los humedales? Documento informativo Ramsar No. 1. https://www.ramsar.org\n",
    "* Sobre el Centro. (2017, agosto 26). CEHUM; Centro de Humedales Río Cruces. https://cehum.org/sobre-el-centro/\n",
    "* Farina, A. (2013). Soundscape ecology: principles, patterns, methods and applications. Springer Science & Business Media.\n",
    "* Pijanowski, B. C., Farina, A., Gage, S. H., Dumyahn, S. L., & Krause, B. L. (2011). What is soundscape ecology? An introduction and overview of an emerging new science. Landscape ecology, 26, 1213-1232.\n"
   ]
  },
  {
   "cell_type": "markdown",
   "id": "f1a8c2c5",
   "metadata": {},
   "source": []
  }
 ],
 "metadata": {
  "kernelspec": {
   "display_name": "ACUS340",
   "language": "python",
   "name": "acus340"
  },
  "language_info": {
   "codemirror_mode": {
    "name": "ipython",
    "version": 3
   },
   "file_extension": ".py",
   "mimetype": "text/x-python",
   "name": "python",
   "nbconvert_exporter": "python",
   "pygments_lexer": "ipython3",
   "version": "3.10.13"
  }
 },
 "nbformat": 4,
 "nbformat_minor": 5
}
