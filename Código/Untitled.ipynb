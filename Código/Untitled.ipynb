{
 "cells": [
  {
   "cell_type": "markdown",
   "id": "66239a77-2893-42a0-b5f1-46084685b8f7",
   "metadata": {},
   "source": [
    "# Etiquetado de Audios Grabados en Humedales \n"
   ]
  },
  {
   "cell_type": "markdown",
   "id": "4f0222ee-272d-4f7e-8fc3-9dca3029f436",
   "metadata": {},
   "source": [
    "## Introducción"
   ]
  },
  {
   "cell_type": "markdown",
   "id": "65682b0a-ebba-4841-a3a9-b0b0bfcb190f",
   "metadata": {},
   "source": [
    "## Objetivos\n",
    "\n",
    "### Objetivo General\n",
    "Analizar el paisaje sonoro de un humedal a través del etiquetado de audios.\n",
    "\n",
    "### Objetivos específicos\n",
    "* Identificar las fuentes sonoras del humedal a través de la grabación y análisis de audios.\n",
    "* Utilizar el etiquetado para clasificar los sonidos registrados, diferenciando entre fuentes biofónicas, geofónicas y antropogénicas.\n"
   ]
  },
  {
   "cell_type": "markdown",
   "id": "8e19080f-74d8-4041-94fe-488879270d31",
   "metadata": {},
   "source": [
    "## Humedales\n",
    "\n"
   ]
  },
  {
   "cell_type": "markdown",
   "id": "a7194bed-9c4f-436b-a7fc-c7c0fd9adce4",
   "metadata": {},
   "source": [
    "## **Paisaje sonoro en Humedales**\n",
    "\n",
    "### **Paisaje sonoro**\n",
    "Un paisaje sonoro es el resultado de sonidos que son producidos por agentes bióticos y abióticos. Es la energía sónica producida por un paisaje y es el resultado de tres fuentes sonicas distintas: geofonias, biofonias y antropofonias.\n",
    "\n",
    "1. Geofonias: Se refiere a sonidos generados por elementos no biológicos del mundo natural. \n",
    "2. Biofonias: Son sonidos generados por organismos vivos.\n",
    "3. Antropofonias: Sonidos generados por actividades humanas o tecnología.\n",
    "El siguiente cuadro muestra la organización de las fuentes sonoras anteriormente mencionadas:\n",
    "\n",
    "| Fuentes sonoras      | Ejemplos |\n",
    "| ----------- | ----------- |\n",
    "| Geofonias   | Viento, agua, truenos|       \n",
    "| Biofonias   | Pájaros, grillos, anfibios        |\n",
    "| Antropofonias| Tráfico, construcción, música    |\n",
    "\n",
    "### **Relación con los humedales**\n",
    "\n",
    "Los paisajes sonoros pueden ser indicadorees de la salud de un ecosistema. Por ejemplo, la presencia de ciertos sonidos puede reflejar la biodiversidad y el estado de la conservación de un humedal.\n",
    "\n",
    "- Indicadores de Biodiversidad: Particularmente en los humedales que son sitios de suma importancia como habitan para numerosas especies, el hecho de capturar numerosas fuentes sonoras de origen animal, como lo es captar sonidos de aves u otros mamíferos. O hasta incluso sonidos propios del mismo ambiente que no estén relacionados con animales, como lo son el cause de un rio o una cascada. Estos sonidos resaltan que el ecosistema en cuestión, que en este caso son los humedales posee una rica biodiversidad.\n",
    "- Monitoreo de la salud del ecosistema: Los paisajes sonoros permiten a los científicos monitorear la salud de los humedales sin necesidad de métodos invasivos. Cambios en los patrones sonoros pueden indicar alteraciones en el ecosistema, como la presencia de especies invasoras o la disminución de especies nativas.\n",
    "- Detección de Contaminación acústica: La presencia de ruido antropofonico (como el trafico o la industria) en los paisajes sonoros puede afectar negativamente a la fauna local. Evaluar estos sonidos ayuda a identificar y mitigar fuentes de contaminación acústica, protegiendo así el hábitat natural que en este caso son los humedales.\n",
    "- Conservacion y valoración: La grabación y estudio de los paisajes sonoros de los humedales ayudan a aumentar la conciencia sobre la importancia de estos ecosistemas. Un ejemplo de esto es el proyecto de Felipe Otondo en Valdivia, que utiliza técnicas innovadoras como el time-lapse sonor para capturar y valorar el patrimonio sonore de los humedales urbanos.\n",
    "\n",
    "### **Impacto de la contaminación sonora**\n",
    "\n",
    "La actividad humana es una de las principales causas de el incremento de la contaminación sonora. Existe el ruido industrial, el ruido urbano, el ruido ambiente, el ruido de los aviones, etc. A menudo el ruido se considera al mismo nivel de importancia que las sustancias químicas como fuente de contaminación.\n",
    "En un mundo no-tecnologico, los sonidos son la manifestación de las dinámicas geofísicas y biofísicas. Truenos, viento y el agua corriendo son sonidos comunes en la naturaleza. En un mundo moderno dominado por la humanidad, la palabra sonido a menudo es confundida y sustituida por “ruido”, que es definido como cualquier proceso sonico que esta lejos de ser silencioso y puede ser dañino.\n",
    "\n",
    "- Patrones de ruido como fuente de contaminación ambiental: Con el término “contaminación por ruido” se busca agrupar toda consecuencia negativa producida por un ambiente ruidoso sobre los animales y la vida humana también.\n",
    "La humanidad ha cambiado drásticamente muchos ecosistemas alrededor del mundo, produciendo mayor cantidad de ruido como resultado del desarrollo económico. \n",
    "Entre los efectos que causa la contaminación por ruido, el ruido puede alterar las interacciones entre presa y depredador y puede facilitar la prevalencia de especies más tolerantes al ruido y por lo tanto reformando comunidades de animales y las relaciones entre especies.\n",
    "- Los efectos del ruido en la comunicación entre animales: El ruido natural es manejado por los organismos de forma que estos lo evitan o se adaptan a ellos, pero el ruido generado por los humanos afecta la fisiología y comportamiento animal de diferentes maneras, produciendo molestia, estrés crónico y pérdida de audición.\n",
    "Para reaccionar al ruido los animales consumen mas energía, reduciendo el tiempo para alimentarse o enmascarando comunicaciones vocales entre ellos, reduciendo las oportunidades de apareamiento. Efectos negativos también ocurren entre la relación depredador-presa, enmascarando la llegada de depredadores y alterando las señales necesarias que componen esta compleja relación.\n",
    "En animales sociales, el ruido antropogenico puede crear dificultades serias en mantener la segregación social o puede reducir el intercambio de información estrategia como la localización de áreas con abundante alimento.\n",
    "\n",
    "\n",
    "\n",
    "\n"
   ]
  },
  {
   "cell_type": "markdown",
   "id": "5a8b9347-9c52-4859-a8a9-a0fcbb3e0b8c",
   "metadata": {},
   "source": [
    "## Instrumentación"
   ]
  },
  {
   "cell_type": "markdown",
   "id": "69011939-a285-40f0-afc1-708d9d98b410",
   "metadata": {},
   "source": [
    "## Mediciones"
   ]
  },
  {
   "cell_type": "markdown",
   "id": "93f164c4-70e5-4c23-8f34-b5fc48f0cc92",
   "metadata": {},
   "source": [
    "## Etiquetado"
   ]
  },
  {
   "cell_type": "markdown",
   "id": "0f45e301-e7c9-4b5d-b631-954e43798e5c",
   "metadata": {},
   "source": [
    "## Conclusiones"
   ]
  },
  {
   "cell_type": "markdown",
   "id": "073a7b05-6d41-4f22-8ae4-d0c8bc91f2f7",
   "metadata": {},
   "source": [
    "## Referencias \n",
    "* Ministerio del Medio Ambiente (MMA), & ONU Medio Ambiente. (2022). Guía de delimitación y caracterización de humedales urbanos de Chile. Elaborada mediante consultoría Proyecto GEF/SEC ID: 9766 “Conservación de humedales costeros de la zona centro-sur de Chile” por EDÁFICA Suelos y Medio Ambiente. Ministerio del Medio Ambiente, Santiago, Chile.\n",
    "\n",
    "* Secretaría de la Convención de Ramsar. (s.f.). ¿Qué son los humedales? Documento informativo Ramsar No. 1. https://www.ramsar.org"
   ]
  }
 ],
 "metadata": {
  "kernelspec": {
   "display_name": "ACUS340",
   "language": "python",
   "name": "acus340"
  },
  "language_info": {
   "codemirror_mode": {
    "name": "ipython",
    "version": 3
   },
   "file_extension": ".py",
   "mimetype": "text/x-python",
   "name": "python",
   "nbconvert_exporter": "python",
   "pygments_lexer": "ipython3",
   "version": "3.10.13"
  }
 },
 "nbformat": 4,
 "nbformat_minor": 5
}
